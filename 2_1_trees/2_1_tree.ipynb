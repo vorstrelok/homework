{
 "cells": [
  {
   "cell_type": "code",
   "execution_count": 220,
   "metadata": {},
   "outputs": [],
   "source": [
    "import numpy as np\n",
    "import pandas as pd\n",
    "from sklearn.tree import DecisionTreeClassifier\n",
    "\n",
    "from sklearn.preprocessing import Imputer\n",
    "from sklearn.preprocessing import StandardScaler\n",
    "from sklearn.preprocessing import LabelEncoder"
   ]
  },
  {
   "cell_type": "code",
   "execution_count": 221,
   "metadata": {
    "collapsed": true
   },
   "outputs": [],
   "source": [
    "train = pd.read_csv('/home/vorstrel/study/data/titanic/train.csv')\n",
    "test = pd.read_csv('/home/vorstrel/study/data/titanic/test.csv')"
   ]
  },
  {
   "cell_type": "code",
   "execution_count": 222,
   "metadata": {},
   "outputs": [
    {
     "data": {
      "text/html": [
       "<div>\n",
       "<style>\n",
       "    .dataframe thead tr:only-child th {\n",
       "        text-align: right;\n",
       "    }\n",
       "\n",
       "    .dataframe thead th {\n",
       "        text-align: left;\n",
       "    }\n",
       "\n",
       "    .dataframe tbody tr th {\n",
       "        vertical-align: top;\n",
       "    }\n",
       "</style>\n",
       "<table border=\"1\" class=\"dataframe\">\n",
       "  <thead>\n",
       "    <tr style=\"text-align: right;\">\n",
       "      <th></th>\n",
       "      <th>PassengerId</th>\n",
       "      <th>Survived</th>\n",
       "      <th>Pclass</th>\n",
       "      <th>Name</th>\n",
       "      <th>Sex</th>\n",
       "      <th>Age</th>\n",
       "      <th>SibSp</th>\n",
       "      <th>Parch</th>\n",
       "      <th>Ticket</th>\n",
       "      <th>Fare</th>\n",
       "      <th>Cabin</th>\n",
       "      <th>Embarked</th>\n",
       "    </tr>\n",
       "  </thead>\n",
       "  <tbody>\n",
       "    <tr>\n",
       "      <th>0</th>\n",
       "      <td>1</td>\n",
       "      <td>0</td>\n",
       "      <td>3</td>\n",
       "      <td>Braund, Mr. Owen Harris</td>\n",
       "      <td>male</td>\n",
       "      <td>22.0</td>\n",
       "      <td>1</td>\n",
       "      <td>0</td>\n",
       "      <td>A/5 21171</td>\n",
       "      <td>7.2500</td>\n",
       "      <td>NaN</td>\n",
       "      <td>S</td>\n",
       "    </tr>\n",
       "    <tr>\n",
       "      <th>1</th>\n",
       "      <td>2</td>\n",
       "      <td>1</td>\n",
       "      <td>1</td>\n",
       "      <td>Cumings, Mrs. John Bradley (Florence Briggs Th...</td>\n",
       "      <td>female</td>\n",
       "      <td>38.0</td>\n",
       "      <td>1</td>\n",
       "      <td>0</td>\n",
       "      <td>PC 17599</td>\n",
       "      <td>71.2833</td>\n",
       "      <td>C85</td>\n",
       "      <td>C</td>\n",
       "    </tr>\n",
       "    <tr>\n",
       "      <th>2</th>\n",
       "      <td>3</td>\n",
       "      <td>1</td>\n",
       "      <td>3</td>\n",
       "      <td>Heikkinen, Miss. Laina</td>\n",
       "      <td>female</td>\n",
       "      <td>26.0</td>\n",
       "      <td>0</td>\n",
       "      <td>0</td>\n",
       "      <td>STON/O2. 3101282</td>\n",
       "      <td>7.9250</td>\n",
       "      <td>NaN</td>\n",
       "      <td>S</td>\n",
       "    </tr>\n",
       "    <tr>\n",
       "      <th>3</th>\n",
       "      <td>4</td>\n",
       "      <td>1</td>\n",
       "      <td>1</td>\n",
       "      <td>Futrelle, Mrs. Jacques Heath (Lily May Peel)</td>\n",
       "      <td>female</td>\n",
       "      <td>35.0</td>\n",
       "      <td>1</td>\n",
       "      <td>0</td>\n",
       "      <td>113803</td>\n",
       "      <td>53.1000</td>\n",
       "      <td>C123</td>\n",
       "      <td>S</td>\n",
       "    </tr>\n",
       "    <tr>\n",
       "      <th>4</th>\n",
       "      <td>5</td>\n",
       "      <td>0</td>\n",
       "      <td>3</td>\n",
       "      <td>Allen, Mr. William Henry</td>\n",
       "      <td>male</td>\n",
       "      <td>35.0</td>\n",
       "      <td>0</td>\n",
       "      <td>0</td>\n",
       "      <td>373450</td>\n",
       "      <td>8.0500</td>\n",
       "      <td>NaN</td>\n",
       "      <td>S</td>\n",
       "    </tr>\n",
       "  </tbody>\n",
       "</table>\n",
       "</div>"
      ],
      "text/plain": [
       "   PassengerId  Survived  Pclass  \\\n",
       "0            1         0       3   \n",
       "1            2         1       1   \n",
       "2            3         1       3   \n",
       "3            4         1       1   \n",
       "4            5         0       3   \n",
       "\n",
       "                                                Name     Sex   Age  SibSp  \\\n",
       "0                            Braund, Mr. Owen Harris    male  22.0      1   \n",
       "1  Cumings, Mrs. John Bradley (Florence Briggs Th...  female  38.0      1   \n",
       "2                             Heikkinen, Miss. Laina  female  26.0      0   \n",
       "3       Futrelle, Mrs. Jacques Heath (Lily May Peel)  female  35.0      1   \n",
       "4                           Allen, Mr. William Henry    male  35.0      0   \n",
       "\n",
       "   Parch            Ticket     Fare Cabin Embarked  \n",
       "0      0         A/5 21171   7.2500   NaN        S  \n",
       "1      0          PC 17599  71.2833   C85        C  \n",
       "2      0  STON/O2. 3101282   7.9250   NaN        S  \n",
       "3      0            113803  53.1000  C123        S  \n",
       "4      0            373450   8.0500   NaN        S  "
      ]
     },
     "execution_count": 222,
     "metadata": {},
     "output_type": "execute_result"
    }
   ],
   "source": [
    "train.head()"
   ]
  },
  {
   "cell_type": "code",
   "execution_count": 223,
   "metadata": {
    "collapsed": true
   },
   "outputs": [],
   "source": [
    "X_train = pd.get_dummies(\n",
    "    train[['Pclass', 'Sex', 'Age', 'SibSp', 'Parch', 'Fare', 'Embarked']],\n",
    "    columns=['Sex', 'Embarked']\n",
    ")\n",
    "X_test = pd.get_dummies(\n",
    "    test[['Pclass', 'Sex', 'Age', 'SibSp', 'Parch', 'Fare', 'Embarked']],\n",
    "    columns=['Sex', 'Embarked']\n",
    ")"
   ]
  },
  {
   "cell_type": "code",
   "execution_count": 224,
   "metadata": {
    "collapsed": true
   },
   "outputs": [],
   "source": [
    "y_train = train['Survived']"
   ]
  },
  {
   "cell_type": "code",
   "execution_count": 225,
   "metadata": {},
   "outputs": [],
   "source": [
    "imp = Imputer(strategy='most_frequent')\n",
    "X_train_imp = imp.fit_transform(X_train)\n",
    "X_test_imp = imp.transform(X_test)"
   ]
  },
  {
   "cell_type": "markdown",
   "metadata": {},
   "source": [
    "# Cross-validation"
   ]
  },
  {
   "cell_type": "code",
   "execution_count": 226,
   "metadata": {},
   "outputs": [],
   "source": [
    "from sklearn.metrics import make_scorer\n",
    "from sklearn.model_selection import KFold\n",
    "from sklearn.model_selection import cross_val_score\n",
    "\n",
    "kfold = KFold(n_splits=4, shuffle=True, random_state=200)\n",
    "\n",
    "scores = cross_val_score(DecisionTreeClassifier(),\n",
    "                         X_train_imp, y_train, groups=None,\n",
    "                         scoring = make_scorer(accuracy_score),\n",
    "                         cv = kfold\n",
    "                        )"
   ]
  },
  {
   "cell_type": "code",
   "execution_count": 227,
   "metadata": {},
   "outputs": [
    {
     "data": {
      "text/plain": [
       "0.77890053730860909"
      ]
     },
     "execution_count": 227,
     "metadata": {},
     "output_type": "execute_result"
    }
   ],
   "source": [
    "np.average(scores)"
   ]
  },
  {
   "cell_type": "markdown",
   "metadata": {},
   "source": [
    "# Optimize model"
   ]
  },
  {
   "cell_type": "code",
   "execution_count": 228,
   "metadata": {},
   "outputs": [],
   "source": [
    "from sklearn.model_selection import GridSearchCV\n",
    "from sklearn.pipeline import Pipeline\n",
    "\n",
    "param_grid = {\n",
    "        'model':[DecisionTreeClassifier(presort=True)],\n",
    "        'model__max_features':range(1, len(X_train.columns) + 1),\n",
    "        'model__max_depth':range(1, 10),\n",
    "}\n",
    "\n",
    "pipeline = Pipeline([\n",
    "    ('model', None),\n",
    "])\n",
    "\n",
    "grid = GridSearchCV(pipeline, param_grid, \n",
    "                    scoring=make_scorer(accuracy_score),\n",
    "                    cv=kfold)"
   ]
  },
  {
   "cell_type": "code",
   "execution_count": 229,
   "metadata": {},
   "outputs": [],
   "source": [
    "model = grid.fit(X_train_imp, y_train)"
   ]
  },
  {
   "cell_type": "code",
   "execution_count": 230,
   "metadata": {},
   "outputs": [
    {
     "data": {
      "text/plain": [
       "{'model': DecisionTreeClassifier(class_weight=None, criterion='gini', max_depth=5,\n",
       "             max_features=6, max_leaf_nodes=None, min_impurity_split=1e-07,\n",
       "             min_samples_leaf=1, min_samples_split=2,\n",
       "             min_weight_fraction_leaf=0.0, presort=True, random_state=None,\n",
       "             splitter='best'), 'model__max_depth': 5, 'model__max_features': 6}"
      ]
     },
     "execution_count": 230,
     "metadata": {},
     "output_type": "execute_result"
    }
   ],
   "source": [
    "model.best_params_"
   ]
  },
  {
   "cell_type": "code",
   "execution_count": 231,
   "metadata": {},
   "outputs": [
    {
     "data": {
      "text/plain": [
       "0.84624017957351294"
      ]
     },
     "execution_count": 231,
     "metadata": {},
     "output_type": "execute_result"
    }
   ],
   "source": [
    "model.score(X_train_imp, y_train)"
   ]
  },
  {
   "cell_type": "markdown",
   "metadata": {},
   "source": [
    "## Feature importance"
   ]
  },
  {
   "cell_type": "code",
   "execution_count": 232,
   "metadata": {
    "collapsed": true
   },
   "outputs": [],
   "source": [
    "from matplotlib import pyplot as plt\n",
    "%matplotlib inline"
   ]
  },
  {
   "cell_type": "code",
   "execution_count": 233,
   "metadata": {},
   "outputs": [
    {
     "data": {
      "text/plain": [
       "''"
      ]
     },
     "execution_count": 233,
     "metadata": {},
     "output_type": "execute_result"
    },
    {
     "data": {
      "image/png": "[encoded data removed]",
      "text/plain": [
       "<matplotlib.figure.Figure at 0x7fd458819668>"
      ]
     },
     "metadata": {},
     "output_type": "display_data"
    }
   ],
   "source": [
    "plt.barh(\n",
    "    np.arange(len(model.best_params_['model'].feature_importances_)),\n",
    "    model.best_params_['model'].feature_importances_\n",
    ")\n",
    "plt.yticks(np.arange(len(X_train.columns)),X_train.columns)\n",
    "''"
   ]
  },
  {
   "cell_type": "markdown",
   "metadata": {},
   "source": [
    "### Самыми важными фичами, как видим, являются пол, стоимость билета (Fare), возраст и класс"
   ]
  },
  {
   "cell_type": "code",
   "execution_count": 234,
   "metadata": {},
   "outputs": [
    {
     "data": {
      "text/plain": [
       "DecisionTreeClassifier(class_weight=None, criterion='gini', max_depth=5,\n",
       "            max_features=6, max_leaf_nodes=None, min_impurity_split=1e-07,\n",
       "            min_samples_leaf=1, min_samples_split=2,\n",
       "            min_weight_fraction_leaf=0.0, presort=True, random_state=None,\n",
       "            splitter='best')"
      ]
     },
     "execution_count": 234,
     "metadata": {},
     "output_type": "execute_result"
    }
   ],
   "source": [
    "model.best_params_['model']"
   ]
  },
  {
   "cell_type": "code",
   "execution_count": 239,
   "metadata": {},
   "outputs": [
    {
     "name": "stdout",
     "output_type": "stream",
     "text": [
      "digraph Tree {\n",
      "node [shape=box, style=\"filled\", color=\"black\"] ;\n",
      "0 [label=\"Pclass <= 2.5\\ngini = 0.473\\nsamples = 891\\nvalue = [549, 342]\\nclass = Died\", fillcolor=\"#e5813960\"] ;\n",
      "1 [label=\"Sex_male <= 0.5\\ngini = 0.4934\\nsamples = 400\\nvalue = [177, 223]\\nclass = Survived\", fillcolor=\"#399de535\"] ;\n",
      "0 -> 1 [labeldistance=2.5, labelangle=45, headlabel=\"True\"] ;\n",
      "2 [label=\"Embarked_S <= 0.5\\ngini = 0.1003\\nsamples = 170\\nvalue = [9, 161]\\nclass = Survived\", fillcolor=\"#399de5f1\"] ;\n",
      "1 -> 2 ;\n",
      "3 [label=\"Age <= 49.5\\ngini = 0.0357\\nsamples = 55\\nvalue = [1, 54]\\nclass = Survived\", fillcolor=\"#399de5fa\"] ;\n",
      "2 -> 3 ;\n",
      "4 [label=\"gini = 0.0\\nsamples = 46\\nvalue = [0, 46]\\nclass = Survived\", fillcolor=\"#399de5ff\"] ;\n",
      "3 -> 4 ;\n",
      "5 [label=\"Fare <= 44.0563\\ngini = 0.1975\\nsamples = 9\\nvalue = [1, 8]\\nclass = Survived\", fillcolor=\"#399de5df\"] ;\n",
      "3 -> 5 ;\n",
      "6 [label=\"gini = 0.0\\nsamples = 1\\nvalue = [1, 0]\\nclass = Died\", fillcolor=\"#e58139ff\"] ;\n",
      "5 -> 6 ;\n",
      "7 [label=\"gini = 0.0\\nsamples = 8\\nvalue = [0, 8]\\nclass = Survived\", fillcolor=\"#399de5ff\"] ;\n",
      "5 -> 7 ;\n",
      "8 [label=\"Age <= 3.0\\ngini = 0.1295\\nsamples = 115\\nvalue = [8, 107]\\nclass = Survived\", fillcolor=\"#399de5ec\"] ;\n",
      "2 -> 8 ;\n",
      "9 [label=\"Parch <= 1.5\\ngini = 0.5\\nsamples = 2\\nvalue = [1, 1]\\nclass = Died\", fillcolor=\"#e5813900\"] ;\n",
      "8 -> 9 ;\n",
      "10 [label=\"gini = 0.0\\nsamples = 1\\nvalue = [0, 1]\\nclass = Survived\", fillcolor=\"#399de5ff\"] ;\n",
      "9 -> 10 ;\n",
      "11 [label=\"gini = 0.0\\nsamples = 1\\nvalue = [1, 0]\\nclass = Died\", fillcolor=\"#e58139ff\"] ;\n",
      "9 -> 11 ;\n",
      "12 [label=\"SibSp <= 0.5\\ngini = 0.1162\\nsamples = 113\\nvalue = [7, 106]\\nclass = Survived\", fillcolor=\"#399de5ee\"] ;\n",
      "8 -> 12 ;\n",
      "13 [label=\"gini = 0.0894\\nsamples = 64\\nvalue = [3, 61]\\nclass = Survived\", fillcolor=\"#399de5f2\"] ;\n",
      "12 -> 13 ;\n",
      "14 [label=\"gini = 0.1499\\nsamples = 49\\nvalue = [4, 45]\\nclass = Survived\", fillcolor=\"#399de5e8\"] ;\n",
      "12 -> 14 ;\n",
      "15 [label=\"Pclass <= 1.5\\ngini = 0.3938\\nsamples = 230\\nvalue = [168, 62]\\nclass = Died\", fillcolor=\"#e58139a1\"] ;\n",
      "1 -> 15 ;\n",
      "16 [label=\"SibSp <= 0.5\\ngini = 0.4656\\nsamples = 122\\nvalue = [77, 45]\\nclass = Died\", fillcolor=\"#e581396a\"] ;\n",
      "15 -> 16 ;\n",
      "17 [label=\"Fare <= 26.1437\\ngini = 0.4419\\nsamples = 88\\nvalue = [59, 29]\\nclass = Died\", fillcolor=\"#e5813982\"] ;\n",
      "16 -> 17 ;\n",
      "18 [label=\"gini = 0.0\\nsamples = 10\\nvalue = [10, 0]\\nclass = Died\", fillcolor=\"#e58139ff\"] ;\n",
      "17 -> 18 ;\n",
      "19 [label=\"gini = 0.4671\\nsamples = 78\\nvalue = [49, 29]\\nclass = Died\", fillcolor=\"#e5813968\"] ;\n",
      "17 -> 19 ;\n",
      "20 [label=\"Age <= 14.5\\ngini = 0.4983\\nsamples = 34\\nvalue = [18, 16]\\nclass = Died\", fillcolor=\"#e581391c\"] ;\n",
      "16 -> 20 ;\n",
      "21 [label=\"gini = 0.0\\nsamples = 2\\nvalue = [0, 2]\\nclass = Survived\", fillcolor=\"#399de5ff\"] ;\n",
      "20 -> 21 ;\n",
      "22 [label=\"gini = 0.4922\\nsamples = 32\\nvalue = [18, 14]\\nclass = Died\", fillcolor=\"#e5813939\"] ;\n",
      "20 -> 22 ;\n",
      "23 [label=\"Parch <= 0.5\\ngini = 0.2653\\nsamples = 108\\nvalue = [91, 17]\\nclass = Died\", fillcolor=\"#e58139cf\"] ;\n",
      "15 -> 23 ;\n",
      "24 [label=\"Age <= 60.5\\ngini = 0.1636\\nsamples = 89\\nvalue = [81, 8]\\nclass = Died\", fillcolor=\"#e58139e6\"] ;\n",
      "23 -> 24 ;\n",
      "25 [label=\"gini = 0.1495\\nsamples = 86\\nvalue = [79, 7]\\nclass = Died\", fillcolor=\"#e58139e8\"] ;\n",
      "24 -> 25 ;\n",
      "26 [label=\"gini = 0.4444\\nsamples = 3\\nvalue = [2, 1]\\nclass = Died\", fillcolor=\"#e581397f\"] ;\n",
      "24 -> 26 ;\n",
      "27 [label=\"Age <= 13.5\\ngini = 0.4986\\nsamples = 19\\nvalue = [10, 9]\\nclass = Died\", fillcolor=\"#e5813919\"] ;\n",
      "23 -> 27 ;\n",
      "28 [label=\"gini = 0.0\\nsamples = 9\\nvalue = [0, 9]\\nclass = Survived\", fillcolor=\"#399de5ff\"] ;\n",
      "27 -> 28 ;\n",
      "29 [label=\"gini = 0.0\\nsamples = 10\\nvalue = [10, 0]\\nclass = Died\", fillcolor=\"#e58139ff\"] ;\n",
      "27 -> 29 ;\n",
      "30 [label=\"Sex_male <= 0.5\\ngini = 0.3672\\nsamples = 491\\nvalue = [372, 119]\\nclass = Died\", fillcolor=\"#e58139ad\"] ;\n",
      "0 -> 30 [labeldistance=2.5, labelangle=-45, headlabel=\"False\"] ;\n",
      "31 [label=\"Embarked_S <= 0.5\\ngini = 0.5\\nsamples = 144\\nvalue = [72, 72]\\nclass = Died\", fillcolor=\"#e5813900\"] ;\n",
      "30 -> 31 ;\n",
      "32 [label=\"Embarked_Q <= 0.5\\ngini = 0.4228\\nsamples = 56\\nvalue = [17, 39]\\nclass = Survived\", fillcolor=\"#399de590\"] ;\n",
      "31 -> 32 ;\n",
      "33 [label=\"Fare <= 15.4937\\ngini = 0.4537\\nsamples = 23\\nvalue = [8, 15]\\nclass = Survived\", fillcolor=\"#399de577\"] ;\n",
      "32 -> 33 ;\n",
      "34 [label=\"gini = 0.5\\nsamples = 16\\nvalue = [8, 8]\\nclass = Died\", fillcolor=\"#e5813900\"] ;\n",
      "33 -> 34 ;\n",
      "35 [label=\"gini = 0.0\\nsamples = 7\\nvalue = [0, 7]\\nclass = Survived\", fillcolor=\"#399de5ff\"] ;\n",
      "33 -> 35 ;\n",
      "36 [label=\"Age <= 27.25\\ngini = 0.3967\\nsamples = 33\\nvalue = [9, 24]\\nclass = Survived\", fillcolor=\"#399de59f\"] ;\n",
      "32 -> 36 ;\n",
      "37 [label=\"gini = 0.32\\nsamples = 30\\nvalue = [6, 24]\\nclass = Survived\", fillcolor=\"#399de5bf\"] ;\n",
      "36 -> 37 ;\n",
      "38 [label=\"gini = 0.0\\nsamples = 3\\nvalue = [3, 0]\\nclass = Died\", fillcolor=\"#e58139ff\"] ;\n",
      "36 -> 38 ;\n",
      "39 [label=\"Fare <= 20.8\\ngini = 0.4688\\nsamples = 88\\nvalue = [55, 33]\\nclass = Died\", fillcolor=\"#e5813966\"] ;\n",
      "31 -> 39 ;\n",
      "40 [label=\"Age <= 36.5\\ngini = 0.4999\\nsamples = 59\\nvalue = [29, 30]\\nclass = Survived\", fillcolor=\"#399de508\"] ;\n",
      "39 -> 40 ;\n",
      "41 [label=\"gini = 0.4956\\nsamples = 53\\nvalue = [24, 29]\\nclass = Survived\", fillcolor=\"#399de52c\"] ;\n",
      "40 -> 41 ;\n",
      "42 [label=\"gini = 0.2778\\nsamples = 6\\nvalue = [5, 1]\\nclass = Died\", fillcolor=\"#e58139cc\"] ;\n",
      "40 -> 42 ;\n",
      "43 [label=\"SibSp <= 1.5\\ngini = 0.1855\\nsamples = 29\\nvalue = [26, 3]\\nclass = Died\", fillcolor=\"#e58139e2\"] ;\n",
      "39 -> 43 ;\n",
      "44 [label=\"gini = 0.2975\\nsamples = 11\\nvalue = [9, 2]\\nclass = Died\", fillcolor=\"#e58139c6\"] ;\n",
      "43 -> 44 ;\n",
      "45 [label=\"gini = 0.1049\\nsamples = 18\\nvalue = [17, 1]\\nclass = Died\", fillcolor=\"#e58139f0\"] ;\n",
      "43 -> 45 ;\n",
      "46 [label=\"Fare <= 51.6979\\ngini = 0.2342\\nsamples = 347\\nvalue = [300, 47]\\nclass = Died\", fillcolor=\"#e58139d7\"] ;\n",
      "30 -> 46 ;\n",
      "47 [label=\"Age <= 13.0\\ngini = 0.2188\\nsamples = 336\\nvalue = [294, 42]\\nclass = Died\", fillcolor=\"#e58139db\"] ;\n",
      "46 -> 47 ;\n",
      "48 [label=\"Fare <= 20.825\\ngini = 0.4608\\nsamples = 25\\nvalue = [16, 9]\\nclass = Died\", fillcolor=\"#e5813970\"] ;\n",
      "47 -> 48 ;\n",
      "49 [label=\"gini = 0.1975\\nsamples = 9\\nvalue = [1, 8]\\nclass = Survived\", fillcolor=\"#399de5df\"] ;\n",
      "48 -> 49 ;\n",
      "50 [label=\"gini = 0.1172\\nsamples = 16\\nvalue = [15, 1]\\nclass = Died\", fillcolor=\"#e58139ee\"] ;\n",
      "48 -> 50 ;\n",
      "51 [label=\"Embarked_C <= 0.5\\ngini = 0.1897\\nsamples = 311\\nvalue = [278, 33]\\nclass = Died\", fillcolor=\"#e58139e1\"] ;\n",
      "47 -> 51 ;\n",
      "52 [label=\"gini = 0.1675\\nsamples = 271\\nvalue = [246, 25]\\nclass = Died\", fillcolor=\"#e58139e5\"] ;\n",
      "51 -> 52 ;\n",
      "53 [label=\"gini = 0.32\\nsamples = 40\\nvalue = [32, 8]\\nclass = Died\", fillcolor=\"#e58139bf\"] ;\n",
      "51 -> 53 ;\n",
      "54 [label=\"SibSp <= 4.0\\ngini = 0.4959\\nsamples = 11\\nvalue = [6, 5]\\nclass = Died\", fillcolor=\"#e581392a\"] ;\n",
      "46 -> 54 ;\n",
      "55 [label=\"Age <= 30.0\\ngini = 0.4082\\nsamples = 7\\nvalue = [2, 5]\\nclass = Survived\", fillcolor=\"#399de599\"] ;\n",
      "54 -> 55 ;\n",
      "56 [label=\"gini = 0.48\\nsamples = 5\\nvalue = [2, 3]\\nclass = Survived\", fillcolor=\"#399de555\"] ;\n",
      "55 -> 56 ;\n",
      "57 [label=\"gini = 0.0\\nsamples = 2\\nvalue = [0, 2]\\nclass = Survived\", fillcolor=\"#399de5ff\"] ;\n",
      "55 -> 57 ;\n",
      "58 [label=\"gini = 0.0\\nsamples = 4\\nvalue = [4, 0]\\nclass = Died\", fillcolor=\"#e58139ff\"] ;\n",
      "54 -> 58 ;\n",
      "}\n"
     ]
    }
   ],
   "source": [
    "from sklearn.tree import export_graphviz\n",
    "\n",
    "print(\n",
    "    export_graphviz(\n",
    "        model.best_params_['model'],\n",
    "        out_file=None, filled=True,\n",
    "        feature_names=list(X_train.columns),\n",
    "        class_names=['Died', 'Survived']\n",
    "    )\n",
    ")"
   ]
  },
  {
   "cell_type": "markdown",
   "metadata": {},
   "source": [
    "## Submission "
   ]
  },
  {
   "cell_type": "code",
   "execution_count": 240,
   "metadata": {
    "collapsed": true
   },
   "outputs": [],
   "source": [
    "predicted = model.predict(imp.transform(X_test))"
   ]
  },
  {
   "cell_type": "code",
   "execution_count": 241,
   "metadata": {
    "collapsed": true
   },
   "outputs": [],
   "source": [
    "with open('submission.txt', 'w') as out:\n",
    "    out.write('PassengerId,Survived\\n')\n",
    "    for passenger, y in zip(test['PassengerId'], predicted):\n",
    "        out.write('%s,%s\\n' % (passenger, y))"
   ]
  }
 ],
 "metadata": {
  "kernelspec": {
   "display_name": "Python 3",
   "language": "python",
   "name": "python3"
  },
  "language_info": {
   "codemirror_mode": {
    "name": "ipython",
    "version": 3
   },
   "file_extension": ".py",
   "mimetype": "text/x-python",
   "name": "python",
   "nbconvert_exporter": "python",
   "pygments_lexer": "ipython3",
   "version": "3.6.1"
  }
 },
 "nbformat": 4,
 "nbformat_minor": 2
}
