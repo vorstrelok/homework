{
 "cells": [
  {
   "cell_type": "code",
   "execution_count": 1,
   "metadata": {},
   "outputs": [
    {
     "name": "stderr",
     "output_type": "stream",
     "text": [
      "Using TensorFlow backend.\n"
     ]
    }
   ],
   "source": [
    "%matplotlib inline\n",
    "import cv2\n",
    "import keras\n",
    "import numpy as np\n",
    "import matplotlib.pyplot as plt\n",
    "from sklearn.preprocessing import normalize"
   ]
  },
  {
   "cell_type": "code",
   "execution_count": 2,
   "metadata": {
    "collapsed": true
   },
   "outputs": [],
   "source": [
    "train = np.loadtxt('../../data/digit-recognizer/train.csv', delimiter=',', skiprows=1)\n",
    "test = np.loadtxt('../../data/digit-recognizer/test.csv', delimiter=',', skiprows=1)"
   ]
  },
  {
   "cell_type": "code",
   "execution_count": 3,
   "metadata": {
    "collapsed": true
   },
   "outputs": [],
   "source": [
    "# сохраняем разметку в отдельную переменную\n",
    "train_label = train[:, 0]\n",
    "# приводим размерность к удобному для обаботки виду\n",
    "train_img = np.resize(train[:, 1:], (train.shape[0], 28, 28))\n",
    "test_img = np.resize(test, (test.shape[0], 28, 28))"
   ]
  },
  {
   "cell_type": "code",
   "execution_count": 4,
   "metadata": {
    "collapsed": true
   },
   "outputs": [],
   "source": [
    "# Предобработаем изображения\n",
    "def crop_normalize_blur(image):\n",
    "    return cv2.GaussianBlur(normalize(image[3:-4, 4:-3]), (3,3), 0) "
   ]
  },
  {
   "cell_type": "code",
   "execution_count": 5,
   "metadata": {
    "collapsed": true
   },
   "outputs": [],
   "source": [
    "# Вычисляем X и Y составляющие градиента с помощью оператора Собеля\n",
    "def sobel(image):\n",
    "    sobel_x = cv2.Sobel(image, cv2.CV_64F, dx=1, dy=0, ksize=3)\n",
    "    sobel_y = cv2.Sobel(image, cv2.CV_64F, dx=0, dy=1, ksize=3)\n",
    "    return sobel_x, sobel_y"
   ]
  },
  {
   "cell_type": "code",
   "execution_count": 6,
   "metadata": {
    "collapsed": true
   },
   "outputs": [],
   "source": [
    "def gradient_histogram(gradient, theta, number_of_bins=16):\n",
    "    # Гистограммы вычисляются с учетом длины вектора градиента\n",
    "    hist_columns = []\n",
    "    for gradient_row, theta_row in zip(np.split(gradient, 3), np.split(theta, 3)):\n",
    "        hist_row = []\n",
    "        for gradient_cell, theta_cell in zip(np.split(gradient_row, 3, axis=1), np.split(theta_row, 3, axis=1)):\n",
    "            hist, borders = np.histogram(\n",
    "                theta_cell,\n",
    "                bins=number_of_bins,\n",
    "                range=(0., 2. * np.pi),\n",
    "                weights=gradient_cell\n",
    "            )\n",
    "            hist_row.append(hist)\n",
    "        hist_columns.append(hist_row)\n",
    "    return np.array(hist_columns)"
   ]
  },
  {
   "cell_type": "code",
   "execution_count": 7,
   "metadata": {
    "collapsed": true
   },
   "outputs": [],
   "source": [
    "def blocks_normalize(histogram_grid):\n",
    "    blocks = [\n",
    "        histogram_grid[:2, :2, :],\n",
    "        histogram_grid[1:, :2, :],\n",
    "        histogram_grid[:2, 1:, :],\n",
    "        histogram_grid[1:, 1:, :],\n",
    "    ]\n",
    "    features = np.stack(normalize(block.reshape(1, -1)) for block in blocks).reshape(-1)\n",
    "    return features"
   ]
  },
  {
   "cell_type": "code",
   "execution_count": 8,
   "metadata": {
    "collapsed": true
   },
   "outputs": [],
   "source": [
    "def get_features(images):\n",
    "    for image in images:\n",
    "#         Вычисляем угол и длину вектора градиента\n",
    "        gradient, theta = cv2.cartToPolar(*sobel(crop_normalize_blur(image)))\n",
    "        features = blocks_normalize(gradient_histogram(gradient, theta))\n",
    "        yield features"
   ]
  },
  {
   "cell_type": "code",
   "execution_count": 9,
   "metadata": {},
   "outputs": [
    {
     "name": "stdout",
     "output_type": "stream",
     "text": [
      "CPU times: user 39.7 s, sys: 19.8 ms, total: 39.7 s\n",
      "Wall time: 39.7 s\n"
     ]
    }
   ],
   "source": [
    "%%time\n",
    "train_data = np.stack(get_features(train_img))"
   ]
  },
  {
   "cell_type": "markdown",
   "metadata": {},
   "source": [
    "## Выводим информацию о модели"
   ]
  },
  {
   "cell_type": "code",
   "execution_count": 10,
   "metadata": {
    "collapsed": true
   },
   "outputs": [],
   "source": [
    "model = keras.models.Sequential()\n",
    "model.add(keras.layers.Dense(260, input_dim=train_data.shape[1], activation='relu'))\n",
    "model.add(keras.layers.BatchNormalization())\n",
    "model.add(keras.layers.Dense(312, activation='relu'))\n",
    "model.add(keras.layers.Dropout(0.05))\n",
    "model.add(keras.layers.Dense(128, activation='relu'))\n",
    "model.add(keras.layers.Dropout(0.05))\n",
    "model.add(keras.layers.Dense(10, activation='softmax'))\n",
    "model.compile(optimizer='adam',\n",
    "              loss='categorical_crossentropy',\n",
    "              metrics=['accuracy'])"
   ]
  },
  {
   "cell_type": "code",
   "execution_count": 11,
   "metadata": {},
   "outputs": [
    {
     "name": "stdout",
     "output_type": "stream",
     "text": [
      "_________________________________________________________________\n",
      "Layer (type)                 Output Shape              Param #   \n",
      "=================================================================\n",
      "dense_1 (Dense)              (None, 260)               66820     \n",
      "_________________________________________________________________\n",
      "batch_normalization_1 (Batch (None, 260)               1040      \n",
      "_________________________________________________________________\n",
      "dense_2 (Dense)              (None, 312)               81432     \n",
      "_________________________________________________________________\n",
      "dropout_1 (Dropout)          (None, 312)               0         \n",
      "_________________________________________________________________\n",
      "dense_3 (Dense)              (None, 128)               40064     \n",
      "_________________________________________________________________\n",
      "dropout_2 (Dropout)          (None, 128)               0         \n",
      "_________________________________________________________________\n",
      "dense_4 (Dense)              (None, 10)                1290      \n",
      "=================================================================\n",
      "Total params: 190,646\n",
      "Trainable params: 190,126\n",
      "Non-trainable params: 520\n",
      "_________________________________________________________________\n"
     ]
    }
   ],
   "source": [
    "model.summary()"
   ]
  },
  {
   "cell_type": "markdown",
   "metadata": {},
   "source": [
    "## Запускаем обучение"
   ]
  },
  {
   "cell_type": "code",
   "execution_count": 17,
   "metadata": {
    "collapsed": true
   },
   "outputs": [],
   "source": [
    "from keras.utils import np_utils\n",
    "y_train_labels = np_utils.to_categorical(train_label)"
   ]
  },
  {
   "cell_type": "code",
   "execution_count": 18,
   "metadata": {
    "scrolled": true
   },
   "outputs": [
    {
     "name": "stdout",
     "output_type": "stream",
     "text": [
      "Epoch 1/20\n",
      "42000/42000 [==============================] - 2s - loss: 0.2961 - acc: 0.9134     \n",
      "Epoch 2/20\n",
      "42000/42000 [==============================] - 1s - loss: 0.0745 - acc: 0.9761     \n",
      "Epoch 3/20\n",
      "42000/42000 [==============================] - 1s - loss: 0.0499 - acc: 0.9842     \n",
      "Epoch 4/20\n",
      "42000/42000 [==============================] - 1s - loss: 0.0362 - acc: 0.9882     \n",
      "Epoch 5/20\n",
      "42000/42000 [==============================] - 1s - loss: 0.0269 - acc: 0.9915     \n",
      "Epoch 6/20\n",
      "42000/42000 [==============================] - 1s - loss: 0.0208 - acc: 0.9934     \n",
      "Epoch 7/20\n",
      "42000/42000 [==============================] - 1s - loss: 0.0169 - acc: 0.9944     \n",
      "Epoch 8/20\n",
      "42000/42000 [==============================] - 1s - loss: 0.0128 - acc: 0.9960     \n",
      "Epoch 9/20\n",
      "42000/42000 [==============================] - 1s - loss: 0.0104 - acc: 0.9970     \n",
      "Epoch 10/20\n",
      "42000/42000 [==============================] - 1s - loss: 0.0082 - acc: 0.9978     \n",
      "Epoch 11/20\n",
      "42000/42000 [==============================] - 1s - loss: 0.0097 - acc: 0.9968     \n",
      "Epoch 12/20\n",
      "42000/42000 [==============================] - 1s - loss: 0.0112 - acc: 0.9958     \n",
      "Epoch 13/20\n",
      "42000/42000 [==============================] - 1s - loss: 0.0101 - acc: 0.9966     \n",
      "Epoch 14/20\n",
      "42000/42000 [==============================] - 1s - loss: 0.0070 - acc: 0.9975     \n",
      "Epoch 15/20\n",
      "42000/42000 [==============================] - 1s - loss: 0.0087 - acc: 0.9972     \n",
      "Epoch 16/20\n",
      "42000/42000 [==============================] - 1s - loss: 0.0105 - acc: 0.9964     \n",
      "Epoch 17/20\n",
      "42000/42000 [==============================] - 1s - loss: 0.0083 - acc: 0.9968     \n",
      "Epoch 18/20\n",
      "42000/42000 [==============================] - 1s - loss: 0.0054 - acc: 0.9982     \n",
      "Epoch 19/20\n",
      "42000/42000 [==============================] - 1s - loss: 0.0063 - acc: 0.9975     \n",
      "Epoch 20/20\n",
      "42000/42000 [==============================] - 1s - loss: 0.0072 - acc: 0.9972     \n"
     ]
    },
    {
     "data": {
      "text/plain": [
       "<keras.callbacks.History at 0x7f8866350198>"
      ]
     },
     "execution_count": 18,
     "metadata": {},
     "output_type": "execute_result"
    }
   ],
   "source": [
    "model.fit(train_data, y_train_labels, batch_size=500, epochs=20)"
   ]
  },
  {
   "cell_type": "markdown",
   "metadata": {},
   "source": [
    "# LeNet"
   ]
  },
  {
   "cell_type": "code",
   "execution_count": 46,
   "metadata": {},
   "outputs": [],
   "source": [
    "lenet = keras.models.Sequential()\n",
    "lenet.add(keras.layers.Conv2D(6, (5,5), padding='same', activation='relu', input_shape=(28, 28, 1)))\n",
    "lenet.add(keras.layers.MaxPool2D(pool_size=(2,2), padding='valid'))\n",
    "lenet.add(keras.layers.Conv2D(16, (5,5), padding='valid', activation='relu'))\n",
    "lenet.add(keras.layers.MaxPool2D(pool_size=(2,2), padding='valid'))\n",
    "lenet.add(keras.layers.Flatten())\n",
    "lenet.add(keras.layers.Dense(120, activation='relu'))\n",
    "lenet.add(keras.layers.Dense(84, activation='relu'))\n",
    "lenet.add(keras.layers.noise.GaussianDropout(0.05))\n",
    "lenet.add(keras.layers.Dense(10, activation='softmax'))\n",
    "lenet.compile(optimizer='adam', loss='categorical_crossentropy', metrics=['accuracy'])"
   ]
  },
  {
   "cell_type": "code",
   "execution_count": 47,
   "metadata": {},
   "outputs": [
    {
     "name": "stdout",
     "output_type": "stream",
     "text": [
      "_________________________________________________________________\n",
      "Layer (type)                 Output Shape              Param #   \n",
      "=================================================================\n",
      "conv2d_18 (Conv2D)           (None, 28, 28, 6)         156       \n",
      "_________________________________________________________________\n",
      "max_pooling2d_17 (MaxPooling (None, 14, 14, 6)         0         \n",
      "_________________________________________________________________\n",
      "conv2d_19 (Conv2D)           (None, 10, 10, 16)        2416      \n",
      "_________________________________________________________________\n",
      "max_pooling2d_18 (MaxPooling (None, 5, 5, 16)          0         \n",
      "_________________________________________________________________\n",
      "flatten_7 (Flatten)          (None, 400)               0         \n",
      "_________________________________________________________________\n",
      "dense_27 (Dense)             (None, 120)               48120     \n",
      "_________________________________________________________________\n",
      "dense_28 (Dense)             (None, 84)                10164     \n",
      "_________________________________________________________________\n",
      "gaussian_dropout_4 (Gaussian (None, 84)                0         \n",
      "_________________________________________________________________\n",
      "dense_29 (Dense)             (None, 10)                850       \n",
      "=================================================================\n",
      "Total params: 61,706\n",
      "Trainable params: 61,706\n",
      "Non-trainable params: 0\n",
      "_________________________________________________________________\n"
     ]
    }
   ],
   "source": [
    "lenet.summary()"
   ]
  },
  {
   "cell_type": "code",
   "execution_count": 48,
   "metadata": {},
   "outputs": [
    {
     "name": "stdout",
     "output_type": "stream",
     "text": [
      "Epoch 1/20\n",
      "42000/42000 [==============================] - 8s - loss: 2.9894 - acc: 0.7043     \n",
      "Epoch 2/20\n",
      "42000/42000 [==============================] - 8s - loss: 0.2202 - acc: 0.9370     \n",
      "Epoch 3/20\n",
      "42000/42000 [==============================] - 8s - loss: 0.1365 - acc: 0.9598     \n",
      "Epoch 4/20\n",
      "42000/42000 [==============================] - 8s - loss: 0.0968 - acc: 0.9704     \n",
      "Epoch 5/20\n",
      "42000/42000 [==============================] - 8s - loss: 0.0740 - acc: 0.9773     \n",
      "Epoch 6/20\n",
      "42000/42000 [==============================] - 8s - loss: 0.0556 - acc: 0.9819     \n",
      "Epoch 7/20\n",
      "42000/42000 [==============================] - 8s - loss: 0.0475 - acc: 0.9846     \n",
      "Epoch 8/20\n",
      "42000/42000 [==============================] - 8s - loss: 0.0395 - acc: 0.9865     \n",
      "Epoch 9/20\n",
      "42000/42000 [==============================] - 8s - loss: 0.0321 - acc: 0.9898     \n",
      "Epoch 10/20\n",
      "42000/42000 [==============================] - 8s - loss: 0.0257 - acc: 0.9916     \n",
      "Epoch 11/20\n",
      "42000/42000 [==============================] - 9s - loss: 0.0224 - acc: 0.9922     \n",
      "Epoch 12/20\n",
      "42000/42000 [==============================] - 9s - loss: 0.0194 - acc: 0.9932     \n",
      "Epoch 13/20\n",
      "42000/42000 [==============================] - 9s - loss: 0.0148 - acc: 0.9949     \n",
      "Epoch 14/20\n",
      "42000/42000 [==============================] - 9s - loss: 0.0138 - acc: 0.9954     \n",
      "Epoch 15/20\n",
      "42000/42000 [==============================] - 9s - loss: 0.0125 - acc: 0.9957     \n",
      "Epoch 16/20\n",
      "42000/42000 [==============================] - 9s - loss: 0.0112 - acc: 0.9963     \n",
      "Epoch 17/20\n",
      "42000/42000 [==============================] - 9s - loss: 0.0092 - acc: 0.9973     \n",
      "Epoch 18/20\n",
      "42000/42000 [==============================] - 9s - loss: 0.0113 - acc: 0.9962     \n",
      "Epoch 19/20\n",
      "42000/42000 [==============================] - 8s - loss: 0.0086 - acc: 0.9969     \n",
      "Epoch 20/20\n",
      "42000/42000 [==============================] - 8s - loss: 0.0095 - acc: 0.9969     \n"
     ]
    },
    {
     "data": {
      "text/plain": [
       "<keras.callbacks.History at 0x7f885a5dc860>"
      ]
     },
     "execution_count": 48,
     "metadata": {},
     "output_type": "execute_result"
    }
   ],
   "source": [
    "lenet.fit(np.resize(train[:, 1:], (train.shape[0], 28, 28, 1)), y_train_labels, batch_size=500, epochs=20)"
   ]
  },
  {
   "cell_type": "markdown",
   "metadata": {},
   "source": [
    "## Предсказываем класс объекта"
   ]
  },
  {
   "cell_type": "code",
   "execution_count": 49,
   "metadata": {},
   "outputs": [
    {
     "name": "stdout",
     "output_type": "stream",
     "text": [
      "40672/42000 [============================>.] - ETA: 0s"
     ]
    }
   ],
   "source": [
    "pred_val_model = model.predict_classes(train_data)"
   ]
  },
  {
   "cell_type": "code",
   "execution_count": 50,
   "metadata": {
    "collapsed": true
   },
   "outputs": [],
   "source": [
    "# Your submission scored 0.98528"
   ]
  },
  {
   "cell_type": "code",
   "execution_count": 53,
   "metadata": {},
   "outputs": [
    {
     "name": "stdout",
     "output_type": "stream",
     "text": [
      "41984/42000 [============================>.] - ETA: 0s"
     ]
    }
   ],
   "source": [
    "pred_val_lenet = lenet.predict_classes(np.resize(train[:, 1:], (train.shape[0], 28, 28, 1)))"
   ]
  },
  {
   "cell_type": "code",
   "execution_count": null,
   "metadata": {
    "collapsed": true
   },
   "outputs": [],
   "source": [
    "# Your submission scored 0.98028"
   ]
  },
  {
   "cell_type": "markdown",
   "metadata": {},
   "source": [
    "## Оцениваем качество решение на валидационной выборке"
   ]
  },
  {
   "cell_type": "code",
   "execution_count": 54,
   "metadata": {},
   "outputs": [
    {
     "name": "stdout",
     "output_type": "stream",
     "text": [
      "Accuracy: 0.998666666667\n",
      "             precision    recall  f1-score   support\n",
      "\n",
      "        0.0       1.00      1.00      1.00      4132\n",
      "        1.0       1.00      1.00      1.00      4684\n",
      "        2.0       1.00      1.00      1.00      4177\n",
      "        3.0       1.00      1.00      1.00      4351\n",
      "        4.0       1.00      1.00      1.00      4072\n",
      "        5.0       1.00      1.00      1.00      3795\n",
      "        6.0       1.00      1.00      1.00      4137\n",
      "        7.0       1.00      1.00      1.00      4401\n",
      "        8.0       1.00      1.00      1.00      4063\n",
      "        9.0       1.00      1.00      1.00      4188\n",
      "\n",
      "avg / total       1.00      1.00      1.00     42000\n",
      "\n",
      "[[4131    0    0    0    1    0    0    0    0    0]\n",
      " [   0 4677    2    0    0    0    0    4    0    1]\n",
      " [   0    0 4176    0    0    0    0    1    0    0]\n",
      " [   0    0    1 4350    0    0    0    0    0    0]\n",
      " [   0    0    0    0 4066    0    0    0    0    6]\n",
      " [   0    0    0    9    0 3786    0    0    0    0]\n",
      " [   1    0    0    0    0    2 4132    0    2    0]\n",
      " [   0    0    4    0    0    0    0 4397    0    0]\n",
      " [   3    0    1    2    0    1    0    0 4055    1]\n",
      " [   2    0    0    0    2    2    0    7    1 4174]]\n"
     ]
    }
   ],
   "source": [
    "from sklearn.metrics import accuracy_score\n",
    "print('Accuracy: %s' % accuracy_score(train_label, pred_val_model))\n",
    "\n",
    "from sklearn.metrics import classification_report\n",
    "print(classification_report(train_label, pred_val_model))\n",
    "\n",
    "from sklearn.metrics import confusion_matrix\n",
    "print(confusion_matrix(train_label, pred_val_model))"
   ]
  },
  {
   "cell_type": "code",
   "execution_count": 55,
   "metadata": {},
   "outputs": [
    {
     "name": "stdout",
     "output_type": "stream",
     "text": [
      "Accuracy: 0.998333333333\n",
      "             precision    recall  f1-score   support\n",
      "\n",
      "        0.0       1.00      1.00      1.00      4132\n",
      "        1.0       1.00      1.00      1.00      4684\n",
      "        2.0       1.00      1.00      1.00      4177\n",
      "        3.0       1.00      1.00      1.00      4351\n",
      "        4.0       1.00      1.00      1.00      4072\n",
      "        5.0       1.00      1.00      1.00      3795\n",
      "        6.0       1.00      1.00      1.00      4137\n",
      "        7.0       1.00      1.00      1.00      4401\n",
      "        8.0       1.00      1.00      1.00      4063\n",
      "        9.0       1.00      1.00      1.00      4188\n",
      "\n",
      "avg / total       1.00      1.00      1.00     42000\n",
      "\n",
      "[[4132    0    0    0    0    0    0    0    0    0]\n",
      " [   0 4683    0    0    0    0    0    1    0    0]\n",
      " [   0    1 4176    0    0    0    0    0    0    0]\n",
      " [   2    0    5 4344    0    0    0    0    0    0]\n",
      " [   0    1    0    1 4068    0    0    1    0    1]\n",
      " [   2    0    1    1    0 3788    1    0    2    0]\n",
      " [  15    0    1    0    0    1 4120    0    0    0]\n",
      " [   0    1    2    0    0    0    0 4398    0    0]\n",
      " [   0    0    2    7    0    1    0    0 4052    1]\n",
      " [   1    0    1    8    5    0    0    4    0 4169]]\n"
     ]
    }
   ],
   "source": [
    "from sklearn.metrics import accuracy_score\n",
    "print('Accuracy: %s' % accuracy_score(train_label, pred_val_lenet))\n",
    "\n",
    "from sklearn.metrics import classification_report\n",
    "print(classification_report(train_label, pred_val_lenet))\n",
    "\n",
    "from sklearn.metrics import confusion_matrix\n",
    "print(confusion_matrix(train_label, pred_val_lenet))"
   ]
  },
  {
   "cell_type": "markdown",
   "metadata": {},
   "source": [
    "## Предсказания на тестовых данных"
   ]
  },
  {
   "cell_type": "code",
   "execution_count": 22,
   "metadata": {},
   "outputs": [
    {
     "name": "stdout",
     "output_type": "stream",
     "text": [
      "26880/28000 [===========================>..] - ETA: 0s"
     ]
    }
   ],
   "source": [
    "pred_test = model.predict_classes(np.stack(get_features(test_img)))"
   ]
  },
  {
   "cell_type": "code",
   "execution_count": 56,
   "metadata": {},
   "outputs": [
    {
     "name": "stdout",
     "output_type": "stream",
     "text": [
      "27808/28000 [============================>.] - ETA: 0s"
     ]
    }
   ],
   "source": [
    "pred_lenet = lenet.predict_classes(np.resize(test, (test.shape[0], 28, 28, 1)))"
   ]
  },
  {
   "cell_type": "markdown",
   "metadata": {},
   "source": [
    "## Визуализируем предсказания"
   ]
  },
  {
   "cell_type": "code",
   "execution_count": 57,
   "metadata": {},
   "outputs": [
    {
     "data": {
      "image/png": "[encoded data removed]",
      "text/plain": [
       "<matplotlib.figure.Figure at 0x7f885993c9e8>"
      ]
     },
     "metadata": {},
     "output_type": "display_data"
    }
   ],
   "source": [
    "fig = plt.figure(figsize=(20, 10))\n",
    "for i, img in enumerate(test_img[0:5], 1):\n",
    "    subplot = fig.add_subplot(1, 7, i)\n",
    "    plt.imshow(img, cmap='gray');\n",
    "    subplot.set_title('%s' % pred_lenet[i - 1]);"
   ]
  },
  {
   "cell_type": "markdown",
   "metadata": {},
   "source": [
    "## Готовим файл для отправки"
   ]
  },
  {
   "cell_type": "code",
   "execution_count": 58,
   "metadata": {
    "collapsed": true
   },
   "outputs": [],
   "source": [
    "with open('submit.txt', 'w') as dst:\n",
    "    dst.write('ImageId,Label\\n')\n",
    "    for i, p in enumerate(pred_lenet, 1):\n",
    "        dst.write('%s,%s\\n' % (i, int(p)))"
   ]
  }
 ],
 "metadata": {
  "kernelspec": {
   "display_name": "Python 3",
   "language": "python",
   "name": "python3"
  },
  "language_info": {
   "codemirror_mode": {
    "name": "ipython",
    "version": 3
   },
   "file_extension": ".py",
   "mimetype": "text/x-python",
   "name": "python",
   "nbconvert_exporter": "python",
   "pygments_lexer": "ipython3",
   "version": "3.6.1"
  }
 },
 "nbformat": 4,
 "nbformat_minor": 2
}
