{
 "cells": [
  {
   "cell_type": "markdown",
   "metadata": {},
   "source": [
    "## Digit Recognizer\n",
    "https://www.kaggle.com/c/digit-recognizer"
   ]
  },
  {
   "cell_type": "code",
   "execution_count": 1,
   "metadata": {
    "collapsed": true
   },
   "outputs": [],
   "source": [
    "%matplotlib inline\n",
    "import cv2\n",
    "import numpy as np\n",
    "import matplotlib.pyplot as plt\n",
    "\n",
    "from sklearn.preprocessing import normalize"
   ]
  },
  {
   "cell_type": "markdown",
   "metadata": {},
   "source": [
    "## Загружаем исходные данные"
   ]
  },
  {
   "cell_type": "code",
   "execution_count": 2,
   "metadata": {
    "collapsed": true
   },
   "outputs": [],
   "source": [
    "train = np.loadtxt('../../data/digit-recognizer/train.csv', delimiter=',', skiprows=1)\n",
    "test = np.loadtxt('../../data/digit-recognizer/test.csv', delimiter=',', skiprows=1)"
   ]
  },
  {
   "cell_type": "code",
   "execution_count": 3,
   "metadata": {
    "collapsed": true
   },
   "outputs": [],
   "source": [
    "# сохраняем разметку в отдельную переменную\n",
    "train_label = train[:, 0]\n",
    "# приводим размерность к удобному для обаботки виду\n",
    "train_img = np.resize(train[:, 1:], (train.shape[0], 28, 28))\n",
    "test_img = np.resize(test, (test.shape[0], 28, 28))"
   ]
  },
  {
   "cell_type": "markdown",
   "metadata": {},
   "source": [
    "## Визуализируем исходные данные"
   ]
  },
  {
   "cell_type": "code",
   "execution_count": 4,
   "metadata": {},
   "outputs": [
    {
     "data": {
      "image/png": "[encoded data removed]",
      "text/plain": [
       "<matplotlib.figure.Figure at 0x7f633481eef0>"
      ]
     },
     "metadata": {},
     "output_type": "display_data"
    }
   ],
   "source": [
    "fig = plt.figure(figsize=(20, 10))\n",
    "for i, img in enumerate(train_img[0:5], 1):\n",
    "    subplot = fig.add_subplot(1, 7, i)\n",
    "    plt.imshow(img, cmap='gray');\n",
    "    subplot.set_title('%s' % train_label[i - 1]);"
   ]
  },
  {
   "cell_type": "code",
   "execution_count": 5,
   "metadata": {
    "collapsed": true
   },
   "outputs": [],
   "source": [
    "# Предобработаем изображения\n",
    "def crop_normalize_blur(image):\n",
    "    return cv2.GaussianBlur(normalize(image[3:-4, 4:-3]), (3,3), 0) "
   ]
  },
  {
   "cell_type": "code",
   "execution_count": 6,
   "metadata": {
    "collapsed": true
   },
   "outputs": [],
   "source": [
    "# Вычисляем X и Y составляющие градиента с помощью оператора Собеля\n",
    "def sobel(image):\n",
    "    sobel_x = cv2.Sobel(image, cv2.CV_64F, dx=1, dy=0, ksize=3)\n",
    "    sobel_y = cv2.Sobel(image, cv2.CV_64F, dx=0, dy=1, ksize=3)\n",
    "    return sobel_x, sobel_y"
   ]
  },
  {
   "cell_type": "markdown",
   "metadata": {},
   "source": [
    "## Вычисляем гистограммы градиентов"
   ]
  },
  {
   "cell_type": "code",
   "execution_count": 7,
   "metadata": {
    "collapsed": true
   },
   "outputs": [],
   "source": [
    "def gradient_histogram(gradient, theta, number_of_bins=16):\n",
    "    # Гистограммы вычисляются с учетом длины вектора градиента\n",
    "    hist_columns = []\n",
    "    for gradient_row, theta_row in zip(np.split(gradient, 3), np.split(theta, 3)):\n",
    "        hist_row = []\n",
    "        for gradient_cell, theta_cell in zip(np.split(gradient_row, 3, axis=1), np.split(theta_row, 3, axis=1)):\n",
    "            hist, borders = np.histogram(\n",
    "                theta_cell,\n",
    "                bins=number_of_bins,\n",
    "                range=(0., 2. * np.pi),\n",
    "                weights=gradient_cell\n",
    "            )\n",
    "            hist_row.append(hist)\n",
    "        hist_columns.append(hist_row)\n",
    "    return np.array(hist_columns)"
   ]
  },
  {
   "cell_type": "code",
   "execution_count": 8,
   "metadata": {
    "collapsed": true
   },
   "outputs": [],
   "source": [
    "def blocks_normalize(histogram_grid):\n",
    "    blocks = [\n",
    "        histogram_grid[:2, :2, :],\n",
    "        histogram_grid[1:, :2, :],\n",
    "        histogram_grid[:2, 1:, :],\n",
    "        histogram_grid[1:, 1:, :],\n",
    "    ]\n",
    "    features = np.stack(normalize(block.reshape(1, -1)) for block in blocks).reshape(-1)\n",
    "    return features"
   ]
  },
  {
   "cell_type": "code",
   "execution_count": 9,
   "metadata": {},
   "outputs": [],
   "source": [
    "def get_features(images):\n",
    "    for image in images:\n",
    "#         Вычисляем угол и длину вектора градиента\n",
    "        gradient, theta = cv2.cartToPolar(*sobel(crop_normalize_blur(image)))\n",
    "        features = blocks_normalize(gradient_histogram(gradient, theta))\n",
    "        yield features"
   ]
  },
  {
   "cell_type": "markdown",
   "metadata": {},
   "source": [
    "## Оцениваем качество решение на валидационной выборке"
   ]
  },
  {
   "cell_type": "code",
   "execution_count": 10,
   "metadata": {
    "collapsed": true
   },
   "outputs": [],
   "source": [
    "# PCA visualization - dont know how to use opencv, use sklearn?\n",
    "# sort histogram max first - fail??\n",
    "# detect thingy on image?\n",
    "# rotate image?"
   ]
  },
  {
   "cell_type": "code",
   "execution_count": 11,
   "metadata": {},
   "outputs": [
    {
     "name": "stdout",
     "output_type": "stream",
     "text": [
      "CPU times: user 38.8 s, sys: 60 ms, total: 38.9 s\n",
      "Wall time: 38.9 s\n"
     ]
    }
   ],
   "source": [
    "%%time\n",
    "train_data = np.stack(get_features(train_img))"
   ]
  },
  {
   "cell_type": "code",
   "execution_count": 12,
   "metadata": {
    "collapsed": true
   },
   "outputs": [],
   "source": [
    "from sklearn.model_selection import cross_val_score\n",
    "from sklearn.metrics import accuracy_score\n",
    "from sklearn.metrics import classification_report\n",
    "from sklearn.metrics import confusion_matrix\n",
    "from sklearn.svm import LinearSVC"
   ]
  },
  {
   "cell_type": "code",
   "execution_count": 13,
   "metadata": {},
   "outputs": [
    {
     "name": "stdout",
     "output_type": "stream",
     "text": [
      "[ 0.97124631  0.97142857  0.96752381  0.97303992]\n"
     ]
    }
   ],
   "source": [
    "model = LinearSVC(random_state=42, multi_class='crammer_singer')\n",
    "print(cross_val_score(model, train_data, train_label, cv=4))"
   ]
  },
  {
   "cell_type": "code",
   "execution_count": 14,
   "metadata": {
    "collapsed": true
   },
   "outputs": [],
   "source": [
    "model = LinearSVC(random_state=42, multi_class='crammer_singer')\n",
    "model.fit(train_data, train_label)\n",
    "predicted_label = model.predict(train_data)"
   ]
  },
  {
   "cell_type": "code",
   "execution_count": 15,
   "metadata": {},
   "outputs": [
    {
     "name": "stdout",
     "output_type": "stream",
     "text": [
      "Accuracy: 0.978428571429\n",
      "             precision    recall  f1-score   support\n",
      "\n",
      "        0.0       0.99      0.99      0.99      4132\n",
      "        1.0       0.99      0.99      0.99      4684\n",
      "        2.0       0.98      0.97      0.98      4177\n",
      "        3.0       0.97      0.97      0.97      4351\n",
      "        4.0       0.98      0.98      0.98      4072\n",
      "        5.0       0.98      0.98      0.98      3795\n",
      "        6.0       0.99      0.99      0.99      4137\n",
      "        7.0       0.97      0.98      0.97      4401\n",
      "        8.0       0.97      0.96      0.97      4063\n",
      "        9.0       0.97      0.96      0.96      4188\n",
      "\n",
      "avg / total       0.98      0.98      0.98     42000\n",
      "\n",
      "[[4109    2    5    0    4    1    6    1    2    2]\n",
      " [   0 4642   11    0   11    1    5   13    0    1]\n",
      " [   5   12 4070   26    5    1    1   35   17    5]\n",
      " [   6    2   30 4216    0   29    0   17   30   21]\n",
      " [   3   11    3    1 3993    0   14   12   10   25]\n",
      " [   2    4    3   30    1 3720   11    2   16    6]\n",
      " [   8    4    1    1    6    6 4101    0   10    0]\n",
      " [   4    5   19   11   17    1    0 4296    7   41]\n",
      " [   7   14   20   22   20   17    8    3 3920   32]\n",
      " [   8    1    3   29   24   10    0   51   35 4027]]\n"
     ]
    }
   ],
   "source": [
    "print('Accuracy: %s' % accuracy_score(train_label, predicted_label))\n",
    "print(classification_report(train_label, predicted_label))\n",
    "print(confusion_matrix(train_label, predicted_label))"
   ]
  },
  {
   "cell_type": "markdown",
   "metadata": {},
   "source": [
    "## Предсказания на тестовых данных"
   ]
  },
  {
   "cell_type": "code",
   "execution_count": 16,
   "metadata": {},
   "outputs": [],
   "source": [
    "predicted_test = model.predict(np.stack(get_features(test_img)))"
   ]
  },
  {
   "cell_type": "code",
   "execution_count": 17,
   "metadata": {},
   "outputs": [
    {
     "data": {
      "image/png": "[encoded data removed]",
      "text/plain": [
       "<matplotlib.figure.Figure at 0x7f6343ae9cc0>"
      ]
     },
     "metadata": {},
     "output_type": "display_data"
    }
   ],
   "source": [
    "fig = plt.figure(figsize=(20, 10))\n",
    "for i, img in enumerate(test_img[0:5], 1):\n",
    "    subplot = fig.add_subplot(1, 7, i)\n",
    "    plt.imshow(img, cmap='gray');\n",
    "    subplot.set_title('%s' % predicted_test[i - 1]);"
   ]
  },
  {
   "cell_type": "markdown",
   "metadata": {},
   "source": [
    "## Готовим файл для отправки"
   ]
  },
  {
   "cell_type": "code",
   "execution_count": 19,
   "metadata": {
    "collapsed": true
   },
   "outputs": [],
   "source": [
    "with open('submit.txt', 'w') as dst:\n",
    "    dst.write('ImageId,Label\\n')\n",
    "    for i, p in enumerate(predicted_test, 1):\n",
    "        dst.write('%s,%s\\n' % (i, int(p)))"
   ]
  },
  {
   "cell_type": "markdown",
   "metadata": {},
   "source": [
    "# 0.97214"
   ]
  }
 ],
 "metadata": {
  "kernelspec": {
   "display_name": "Python 3",
   "language": "python",
   "name": "python3"
  },
  "language_info": {
   "codemirror_mode": {
    "name": "ipython",
    "version": 3
   },
   "file_extension": ".py",
   "mimetype": "text/x-python",
   "name": "python",
   "nbconvert_exporter": "python",
   "pygments_lexer": "ipython3",
   "version": "3.6.1"
  }
 },
 "nbformat": 4,
 "nbformat_minor": 2
}
